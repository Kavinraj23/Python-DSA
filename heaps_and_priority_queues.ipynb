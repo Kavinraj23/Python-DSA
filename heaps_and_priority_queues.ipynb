{
 "cells": [
  {
   "cell_type": "code",
   "execution_count": 2,
   "metadata": {},
   "outputs": [
    {
     "data": {
      "text/plain": [
       "[-4, 0, 1, 3, 2, 5, 10, 8, 12, 9]"
      ]
     },
     "execution_count": 2,
     "metadata": {},
     "output_type": "execute_result"
    }
   ],
   "source": [
    "# Build Min Heap (Heapify)\n",
    "# Time: O(n), Space: O(1)\n",
    "\n",
    "A = [-4, 3, 1, 0, 2, 5, 10, 8, 12, 9]\n",
    "import heapq\n",
    "heapq.heapify(A)\n",
    "\n",
    "A\n"
   ]
  },
  {
   "cell_type": "code",
   "execution_count": 5,
   "metadata": {},
   "outputs": [
    {
     "data": {
      "text/plain": [
       "[-4, 0, 1, 3, 2, 4, 10, 8, 12, 9, 4, 5]"
      ]
     },
     "execution_count": 5,
     "metadata": {},
     "output_type": "execute_result"
    }
   ],
   "source": [
    "# Heap Push (Insert element)\n",
    "# Time: O(log n)\n",
    "\n",
    "heapq.heappush(A, 4)\n",
    "A"
   ]
  },
  {
   "cell_type": "code",
   "execution_count": 6,
   "metadata": {},
   "outputs": [
    {
     "data": {
      "text/plain": [
       "([0, 2, 1, 3, 4, 4, 10, 8, 12, 9, 5], -4)"
      ]
     },
     "execution_count": 6,
     "metadata": {},
     "output_type": "execute_result"
    }
   ],
   "source": [
    "# Heap Pop (Extract min)\n",
    "# Time: O(log n)\n",
    "min = heapq.heappop(A)\n",
    "A, min"
   ]
  },
  {
   "cell_type": "code",
   "execution_count": 7,
   "metadata": {},
   "outputs": [],
   "source": [
    "# Heap Sort\n",
    "# Time: O(n logn), Space: O(n)\n",
    "# Note: O(1) Space is possible via swapping, but this is complex\n",
    "\n",
    "def heapsort(arr):\n",
    "    heapq.heapify(arr)\n",
    "    n = len(arr)\n",
    "    new_list = [0] * n\n",
    "\n",
    "    for i in range(n):\n",
    "        min = heapq.heappop(arr)\n",
    "        new_list[i] = min\n",
    "    return new_list"
   ]
  },
  {
   "cell_type": "code",
   "execution_count": 8,
   "metadata": {},
   "outputs": [
    {
     "data": {
      "text/plain": [
       "[0, 1, 2, 3, 4, 5, 6, 72, 345]"
      ]
     },
     "execution_count": 8,
     "metadata": {},
     "output_type": "execute_result"
    }
   ],
   "source": [
    "heapsort([1,3,4,5,6,72,2,345,0])"
   ]
  },
  {
   "cell_type": "code",
   "execution_count": 11,
   "metadata": {},
   "outputs": [
    {
     "data": {
      "text/plain": [
       "[2, 3, 4, 8, 4, 99, 10, 99, 12, 9, 5]"
      ]
     },
     "execution_count": 11,
     "metadata": {},
     "output_type": "execute_result"
    }
   ],
   "source": [
    "# Heap Push Pop: Time: O(logn)\n",
    "heapq.heappushpop(A, 99)\n",
    "A"
   ]
  },
  {
   "cell_type": "code",
   "execution_count": 17,
   "metadata": {},
   "outputs": [
    {
     "data": {
      "text/plain": [
       "2"
      ]
     },
     "execution_count": 17,
     "metadata": {},
     "output_type": "execute_result"
    }
   ],
   "source": [
    "# Peek at Min: Time: O(1)\n",
    "A[0]"
   ]
  },
  {
   "cell_type": "code",
   "execution_count": 12,
   "metadata": {},
   "outputs": [],
   "source": [
    "# Max Heap\n",
    "B = [-4, 3, 1, 0, 2, 5, 10, 8, 12, 9]\n",
    "n=len(B)\n",
    "\n",
    "for i in range(n):\n",
    "    B[i] = -B[i]\n",
    "\n",
    "heapq.heapify(B)"
   ]
  },
  {
   "cell_type": "code",
   "execution_count": 13,
   "metadata": {},
   "outputs": [
    {
     "data": {
      "text/plain": [
       "[-12, -9, -10, -8, -2, -5, -1, -3, 0, 4]"
      ]
     },
     "execution_count": 13,
     "metadata": {},
     "output_type": "execute_result"
    }
   ],
   "source": [
    "B"
   ]
  },
  {
   "cell_type": "code",
   "execution_count": 14,
   "metadata": {},
   "outputs": [
    {
     "data": {
      "text/plain": [
       "12"
      ]
     },
     "execution_count": 14,
     "metadata": {},
     "output_type": "execute_result"
    }
   ],
   "source": [
    "largest = -heapq.heappop(B)\n",
    "\n",
    "largest"
   ]
  },
  {
   "cell_type": "code",
   "execution_count": 15,
   "metadata": {},
   "outputs": [],
   "source": [
    "heapq.heappush(B, -7) # Insert 7 into max heap\n"
   ]
  },
  {
   "cell_type": "code",
   "execution_count": 16,
   "metadata": {},
   "outputs": [
    {
     "data": {
      "text/plain": [
       "[-10, -9, -5, -8, -7, 4, -1, -3, 0, -2]"
      ]
     },
     "execution_count": 16,
     "metadata": {},
     "output_type": "execute_result"
    }
   ],
   "source": [
    "B"
   ]
  },
  {
   "cell_type": "code",
   "execution_count": 19,
   "metadata": {},
   "outputs": [
    {
     "name": "stdout",
     "output_type": "stream",
     "text": [
      "[-5] 1\n",
      "[-5, 4] 2\n",
      "[-5, 4, 2] 3\n",
      "[-5, 1, 2, 4] 4\n",
      "[-5, 1, 2, 4, 7] 5\n",
      "[-5, 1, 0, 4, 7, 2] 6\n",
      "[-5, 1, 0, 4, 7, 2, 3] 7\n"
     ]
    }
   ],
   "source": [
    "# Build heap from scratch - Time: O(nlogn)\n",
    "\n",
    "C = [-5, 4, 2, 1, 7, 0, 3]\n",
    "heap = []\n",
    "\n",
    "for x in C:\n",
    "    heapq.heappush(heap, x)\n",
    "    print(heap, len(heap)) # Check size of heap"
   ]
  },
  {
   "cell_type": "code",
   "execution_count": 20,
   "metadata": {},
   "outputs": [
    {
     "data": {
      "text/plain": [
       "[5, 4, 3, 5, 4, 3, 5, 5, 4]"
      ]
     },
     "execution_count": 20,
     "metadata": {},
     "output_type": "execute_result"
    }
   ],
   "source": [
    "# Putting tuples of items on the heap\n",
    "\n",
    "D = [5, 4, 3, 5, 4, 3, 5, 5, 4]\n",
    "\n",
    "D"
   ]
  },
  {
   "cell_type": "code",
   "execution_count": 21,
   "metadata": {},
   "outputs": [],
   "source": [
    "from collections import Counter"
   ]
  },
  {
   "cell_type": "code",
   "execution_count": 22,
   "metadata": {},
   "outputs": [
    {
     "data": {
      "text/plain": [
       "Counter({5: 4, 4: 3, 3: 2})"
      ]
     },
     "execution_count": 22,
     "metadata": {},
     "output_type": "execute_result"
    }
   ],
   "source": [
    "counter = Counter(D)\n"
   ]
  },
  {
   "cell_type": "code",
   "execution_count": 24,
   "metadata": {},
   "outputs": [
    {
     "data": {
      "text/plain": [
       "[(2, 3), (4, 5), (3, 4)]"
      ]
     },
     "execution_count": 24,
     "metadata": {},
     "output_type": "execute_result"
    }
   ],
   "source": [
    "\n",
    "heap = []\n",
    "for k, v in counter.items():\n",
    "    heapq.heappush(heap, (v, k))\n",
    "\n",
    "heap"
   ]
  },
  {
   "cell_type": "code",
   "execution_count": null,
   "metadata": {},
   "outputs": [],
   "source": []
  }
 ],
 "metadata": {
  "kernelspec": {
   "display_name": "Python 3",
   "language": "python",
   "name": "python3"
  },
  "language_info": {
   "codemirror_mode": {
    "name": "ipython",
    "version": 3
   },
   "file_extension": ".py",
   "mimetype": "text/x-python",
   "name": "python",
   "nbconvert_exporter": "python",
   "pygments_lexer": "ipython3",
   "version": "3.12.5"
  }
 },
 "nbformat": 4,
 "nbformat_minor": 2
}
